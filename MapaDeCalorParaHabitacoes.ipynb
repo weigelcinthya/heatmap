{
  "nbformat": 4,
  "nbformat_minor": 0,
  "metadata": {
    "colab": {
      "name": "MapaDeCalorParaHabitacoes.ipynb",
      "provenance": [],
      "include_colab_link": true
    },
    "kernelspec": {
      "name": "python3",
      "display_name": "Python 3"
    }
  },
  "cells": [
    {
      "cell_type": "markdown",
      "metadata": {
        "id": "view-in-github",
        "colab_type": "text"
      },
      "source": [
        "<a href=\"https://colab.research.google.com/github/weigelcinthya/heatmap/blob/master/MapaDeCalorParaHabitacoes.ipynb\" target=\"_parent\"><img src=\"https://colab.research.google.com/assets/colab-badge.svg\" alt=\"Open In Colab\"/></a>"
      ]
    },
    {
      "cell_type": "code",
      "metadata": {
        "id": "iqToRSiM0CVN",
        "colab_type": "code",
        "colab": {}
      },
      "source": [
        "import pandas as pd \n",
        "import gmplot\n",
        "from IPython.display import display\n",
        "\n",
        "\n",
        "# data = pd.read_csv(\"queryresultado.csv\")\n",
        "\n",
        "# display(data.head(n=5))\n",
        "\n"
      ],
      "execution_count": 0,
      "outputs": []
    },
    {
      "cell_type": "code",
      "metadata": {
        "id": "oDImjKY91dq-",
        "colab_type": "code",
        "colab": {}
      },
      "source": [
        "latitudes = data[\"latitude\"]\n",
        "longitudes = data[\"longitude\"]\n",
        "\n",
        "gmap = gmplot.GoogleMapPlotter(-27.354800, -48.325700, 10)\n",
        "\n",
        "gmap.heatmap(latitudes, longitudes)\n",
        "\n",
        "gmap.draw(\"habitacoesDisponiveisEm3Meses.html\")"
      ],
      "execution_count": 0,
      "outputs": []
    },
    {
      "cell_type": "code",
      "metadata": {
        "id": "nADgPhBz5O0_",
        "colab_type": "code",
        "outputId": "a6b67fdc-e28e-4c54-e7fb-1235c21353d9",
        "colab": {
          "base_uri": "https://localhost:8080/",
          "height": 204
        }
      },
      "source": [
        "data2 = pd.read_csv(\"habitacoesAlugadas.csv\")\n",
        "\n",
        "display(data2.head(n=5))"
      ],
      "execution_count": 0,
      "outputs": [
        {
          "output_type": "display_data",
          "data": {
            "text/html": [
              "<div>\n",
              "<style scoped>\n",
              "    .dataframe tbody tr th:only-of-type {\n",
              "        vertical-align: middle;\n",
              "    }\n",
              "\n",
              "    .dataframe tbody tr th {\n",
              "        vertical-align: top;\n",
              "    }\n",
              "\n",
              "    .dataframe thead th {\n",
              "        text-align: right;\n",
              "    }\n",
              "</style>\n",
              "<table border=\"1\" class=\"dataframe\">\n",
              "  <thead>\n",
              "    <tr style=\"text-align: right;\">\n",
              "      <th></th>\n",
              "      <th>sk_habitacao_dim</th>\n",
              "      <th>latitude</th>\n",
              "      <th>longitude</th>\n",
              "    </tr>\n",
              "  </thead>\n",
              "  <tbody>\n",
              "    <tr>\n",
              "      <th>0</th>\n",
              "      <td>87132</td>\n",
              "      <td>-27608369.0</td>\n",
              "      <td>-48516664.0</td>\n",
              "    </tr>\n",
              "    <tr>\n",
              "      <th>1</th>\n",
              "      <td>90481</td>\n",
              "      <td>-27426682.0</td>\n",
              "      <td>-48445492.0</td>\n",
              "    </tr>\n",
              "    <tr>\n",
              "      <th>2</th>\n",
              "      <td>90618</td>\n",
              "      <td>-27427006.0</td>\n",
              "      <td>-48446404.0</td>\n",
              "    </tr>\n",
              "    <tr>\n",
              "      <th>3</th>\n",
              "      <td>91651</td>\n",
              "      <td>-27444305.0</td>\n",
              "      <td>-48381161.0</td>\n",
              "    </tr>\n",
              "    <tr>\n",
              "      <th>4</th>\n",
              "      <td>91677</td>\n",
              "      <td>-27444347.0</td>\n",
              "      <td>-48381168.0</td>\n",
              "    </tr>\n",
              "  </tbody>\n",
              "</table>\n",
              "</div>"
            ],
            "text/plain": [
              "   sk_habitacao_dim    latitude   longitude\n",
              "0             87132 -27608369.0 -48516664.0\n",
              "1             90481 -27426682.0 -48445492.0\n",
              "2             90618 -27427006.0 -48446404.0\n",
              "3             91651 -27444305.0 -48381161.0\n",
              "4             91677 -27444347.0 -48381168.0"
            ]
          },
          "metadata": {
            "tags": []
          }
        }
      ]
    },
    {
      "cell_type": "code",
      "metadata": {
        "id": "tsChA2Jq5lIk",
        "colab_type": "code",
        "colab": {}
      },
      "source": [
        "latitudes2 = data[\"latitude\"]\n",
        "longitudes2 = data[\"longitude\"]\n",
        "\n",
        "gmap = gmplot.GoogleMapPlotter(-27.354800, -48.325700, 10)\n",
        "\n",
        "gmap.heatmap(latitudes2, longitudes2)\n",
        "\n",
        "gmap.draw(\"habitacoesAlugadasEm3Meses.html\")"
      ],
      "execution_count": 0,
      "outputs": []
    },
    {
      "cell_type": "code",
      "metadata": {
        "id": "iMJrKGJb15OP",
        "colab_type": "code",
        "outputId": "04977c64-8f31-4384-bd5e-3a832069865e",
        "colab": {
          "base_uri": "https://localhost:8080/",
          "height": 204
        }
      },
      "source": [
        "hab = pd.read_csv(\"alugadasmes3.csv\")\n",
        "\n",
        "display(hab.head(n=5))\n",
        "\n",
        "latitudes2 = hab[\"latitude\"]\n",
        "longitudes2 = hab[\"longitude\"]\n",
        "\n",
        "gmap = gmplot.GoogleMapPlotter(-27.354800, -48.325700, 10)\n",
        "\n",
        "gmap.heatmap(latitudes2, longitudes2)\n",
        "\n",
        "gmap.draw(\"habitacoesAlugadasEmMarco.html\")"
      ],
      "execution_count": 0,
      "outputs": [
        {
          "output_type": "display_data",
          "data": {
            "text/html": [
              "<div>\n",
              "<style scoped>\n",
              "    .dataframe tbody tr th:only-of-type {\n",
              "        vertical-align: middle;\n",
              "    }\n",
              "\n",
              "    .dataframe tbody tr th {\n",
              "        vertical-align: top;\n",
              "    }\n",
              "\n",
              "    .dataframe thead th {\n",
              "        text-align: right;\n",
              "    }\n",
              "</style>\n",
              "<table border=\"1\" class=\"dataframe\">\n",
              "  <thead>\n",
              "    <tr style=\"text-align: right;\">\n",
              "      <th></th>\n",
              "      <th>sk_habitacao_dim</th>\n",
              "      <th>latitude</th>\n",
              "      <th>longitude</th>\n",
              "      <th>mes</th>\n",
              "    </tr>\n",
              "  </thead>\n",
              "  <tbody>\n",
              "    <tr>\n",
              "      <th>0</th>\n",
              "      <td>87132</td>\n",
              "      <td>-27608369.0</td>\n",
              "      <td>-48516664.0</td>\n",
              "      <td>3</td>\n",
              "    </tr>\n",
              "    <tr>\n",
              "      <th>1</th>\n",
              "      <td>90618</td>\n",
              "      <td>-27427006.0</td>\n",
              "      <td>-48446404.0</td>\n",
              "      <td>3</td>\n",
              "    </tr>\n",
              "    <tr>\n",
              "      <th>2</th>\n",
              "      <td>91651</td>\n",
              "      <td>-27444305.0</td>\n",
              "      <td>-48381161.0</td>\n",
              "      <td>3</td>\n",
              "    </tr>\n",
              "    <tr>\n",
              "      <th>3</th>\n",
              "      <td>91677</td>\n",
              "      <td>-27444347.0</td>\n",
              "      <td>-48381168.0</td>\n",
              "      <td>3</td>\n",
              "    </tr>\n",
              "    <tr>\n",
              "      <th>4</th>\n",
              "      <td>92563</td>\n",
              "      <td>-27443134.0</td>\n",
              "      <td>-48500647.0</td>\n",
              "      <td>3</td>\n",
              "    </tr>\n",
              "  </tbody>\n",
              "</table>\n",
              "</div>"
            ],
            "text/plain": [
              "   sk_habitacao_dim    latitude   longitude  mes\n",
              "0             87132 -27608369.0 -48516664.0    3\n",
              "1             90618 -27427006.0 -48446404.0    3\n",
              "2             91651 -27444305.0 -48381161.0    3\n",
              "3             91677 -27444347.0 -48381168.0    3\n",
              "4             92563 -27443134.0 -48500647.0    3"
            ]
          },
          "metadata": {
            "tags": []
          }
        }
      ]
    },
    {
      "cell_type": "code",
      "metadata": {
        "id": "gAFXljDf6tq3",
        "colab_type": "code",
        "outputId": "54227435-141e-47e8-8b1f-e52e72626b4f",
        "colab": {
          "base_uri": "https://localhost:8080/",
          "height": 204
        }
      },
      "source": [
        "hab = pd.read_csv(\"alugadasmes4.csv\")\n",
        "\n",
        "display(hab.head(n=5))\n",
        "\n",
        "latitudes2 = hab[\"latitude\"]\n",
        "longitudes2 = hab[\"longitude\"]\n",
        "\n",
        "gmap = gmplot.GoogleMapPlotter(-27.354800, -48.325700, 10)\n",
        "\n",
        "gmap.heatmap(latitudes2, longitudes2)\n",
        "\n",
        "gmap.draw(\"habitacoesAlugadasEmAbril.html\")"
      ],
      "execution_count": 0,
      "outputs": [
        {
          "output_type": "display_data",
          "data": {
            "text/html": [
              "<div>\n",
              "<style scoped>\n",
              "    .dataframe tbody tr th:only-of-type {\n",
              "        vertical-align: middle;\n",
              "    }\n",
              "\n",
              "    .dataframe tbody tr th {\n",
              "        vertical-align: top;\n",
              "    }\n",
              "\n",
              "    .dataframe thead th {\n",
              "        text-align: right;\n",
              "    }\n",
              "</style>\n",
              "<table border=\"1\" class=\"dataframe\">\n",
              "  <thead>\n",
              "    <tr style=\"text-align: right;\">\n",
              "      <th></th>\n",
              "      <th>sk_habitacao_dim</th>\n",
              "      <th>latitude</th>\n",
              "      <th>longitude</th>\n",
              "      <th>mes</th>\n",
              "    </tr>\n",
              "  </thead>\n",
              "  <tbody>\n",
              "    <tr>\n",
              "      <th>0</th>\n",
              "      <td>87132</td>\n",
              "      <td>-27608369.0</td>\n",
              "      <td>-48516664.0</td>\n",
              "      <td>4</td>\n",
              "    </tr>\n",
              "    <tr>\n",
              "      <th>1</th>\n",
              "      <td>90481</td>\n",
              "      <td>-27426682.0</td>\n",
              "      <td>-48445492.0</td>\n",
              "      <td>4</td>\n",
              "    </tr>\n",
              "    <tr>\n",
              "      <th>2</th>\n",
              "      <td>90618</td>\n",
              "      <td>-27427006.0</td>\n",
              "      <td>-48446404.0</td>\n",
              "      <td>4</td>\n",
              "    </tr>\n",
              "    <tr>\n",
              "      <th>3</th>\n",
              "      <td>91651</td>\n",
              "      <td>-27444305.0</td>\n",
              "      <td>-48381161.0</td>\n",
              "      <td>4</td>\n",
              "    </tr>\n",
              "    <tr>\n",
              "      <th>4</th>\n",
              "      <td>91677</td>\n",
              "      <td>-27444347.0</td>\n",
              "      <td>-48381168.0</td>\n",
              "      <td>4</td>\n",
              "    </tr>\n",
              "  </tbody>\n",
              "</table>\n",
              "</div>"
            ],
            "text/plain": [
              "   sk_habitacao_dim    latitude   longitude  mes\n",
              "0             87132 -27608369.0 -48516664.0    4\n",
              "1             90481 -27426682.0 -48445492.0    4\n",
              "2             90618 -27427006.0 -48446404.0    4\n",
              "3             91651 -27444305.0 -48381161.0    4\n",
              "4             91677 -27444347.0 -48381168.0    4"
            ]
          },
          "metadata": {
            "tags": []
          }
        }
      ]
    },
    {
      "cell_type": "code",
      "metadata": {
        "id": "Csz5x7Ma68Si",
        "colab_type": "code",
        "outputId": "a5060b02-cbdc-40c4-b0e1-60a5f7fdf1fb",
        "colab": {
          "base_uri": "https://localhost:8080/",
          "height": 204
        }
      },
      "source": [
        "hab = pd.read_csv(\"alugadasmes5.csv\")\n",
        "\n",
        "display(hab.head(n=5))\n",
        "\n",
        "latitudes2 = hab[\"latitude\"]\n",
        "longitudes2 = hab[\"longitude\"]\n",
        "\n",
        "gmap = gmplot.GoogleMapPlotter(-27.354800, -48.325700, 10)\n",
        "\n",
        "gmap.heatmap(latitudes2, longitudes2)\n",
        "\n",
        "gmap.draw(\"habitacoesAlugadasEmMaio.html\")"
      ],
      "execution_count": 0,
      "outputs": [
        {
          "output_type": "display_data",
          "data": {
            "text/html": [
              "<div>\n",
              "<style scoped>\n",
              "    .dataframe tbody tr th:only-of-type {\n",
              "        vertical-align: middle;\n",
              "    }\n",
              "\n",
              "    .dataframe tbody tr th {\n",
              "        vertical-align: top;\n",
              "    }\n",
              "\n",
              "    .dataframe thead th {\n",
              "        text-align: right;\n",
              "    }\n",
              "</style>\n",
              "<table border=\"1\" class=\"dataframe\">\n",
              "  <thead>\n",
              "    <tr style=\"text-align: right;\">\n",
              "      <th></th>\n",
              "      <th>sk_habitacao_dim</th>\n",
              "      <th>latitude</th>\n",
              "      <th>longitude</th>\n",
              "      <th>mes</th>\n",
              "    </tr>\n",
              "  </thead>\n",
              "  <tbody>\n",
              "    <tr>\n",
              "      <th>0</th>\n",
              "      <td>91651</td>\n",
              "      <td>-27444305.0</td>\n",
              "      <td>-48381161.0</td>\n",
              "      <td>5</td>\n",
              "    </tr>\n",
              "    <tr>\n",
              "      <th>1</th>\n",
              "      <td>91677</td>\n",
              "      <td>-27444347.0</td>\n",
              "      <td>-48381168.0</td>\n",
              "      <td>5</td>\n",
              "    </tr>\n",
              "    <tr>\n",
              "      <th>2</th>\n",
              "      <td>92563</td>\n",
              "      <td>-27443134.0</td>\n",
              "      <td>-48500647.0</td>\n",
              "      <td>5</td>\n",
              "    </tr>\n",
              "    <tr>\n",
              "      <th>3</th>\n",
              "      <td>94016</td>\n",
              "      <td>-27414866.0</td>\n",
              "      <td>-48425977.0</td>\n",
              "      <td>5</td>\n",
              "    </tr>\n",
              "    <tr>\n",
              "      <th>4</th>\n",
              "      <td>138755</td>\n",
              "      <td>-27503460.0</td>\n",
              "      <td>-48418580.0</td>\n",
              "      <td>5</td>\n",
              "    </tr>\n",
              "  </tbody>\n",
              "</table>\n",
              "</div>"
            ],
            "text/plain": [
              "   sk_habitacao_dim    latitude   longitude  mes\n",
              "0             91651 -27444305.0 -48381161.0    5\n",
              "1             91677 -27444347.0 -48381168.0    5\n",
              "2             92563 -27443134.0 -48500647.0    5\n",
              "3             94016 -27414866.0 -48425977.0    5\n",
              "4            138755 -27503460.0 -48418580.0    5"
            ]
          },
          "metadata": {
            "tags": []
          }
        }
      ]
    }
  ]
}